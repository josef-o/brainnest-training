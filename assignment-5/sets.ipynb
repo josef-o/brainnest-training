{
 "cells": [
  {
   "cell_type": "markdown",
   "metadata": {},
   "source": [
    "1. Given two sets A and B, write a function to return the symmetric difference between them as a new set. The symmetric difference is the set of elements that are in either A or B, but not in both."
   ]
  },
  {
   "cell_type": "code",
   "execution_count": 1,
   "metadata": {},
   "outputs": [
    {
     "name": "stdout",
     "output_type": "stream",
     "text": [
      "The symmetric difference between {1, 50, 5, 21, 9} and {1, 50, 5, 101, 10} is:\n",
      " {9, 10, 21, 101}\n"
     ]
    }
   ],
   "source": [
    "from typing import Any\n",
    "\n",
    "def symmetric_difference(a: set[Any], b: set[Any]) -> set[Any]:\n",
    "    \"\"\"\n",
    "    Returns the set of elements in a or b but not in both.\n",
    "    \"\"\"\n",
    "    union = a.union(b)\n",
    "    intersection = a.intersection(b)\n",
    "    return {e for e in union if e not in intersection}\n",
    "\n",
    "a = {1, 5, 9, 50, 21}\n",
    "b = {1, 5, 10, 50, 101}\n",
    "print(f\"The symmetric difference between {a} and {b} is:\\n\", symmetric_difference(a, b))"
   ]
  },
  {
   "cell_type": "code",
   "execution_count": 2,
   "metadata": {},
   "outputs": [
    {
     "data": {
      "text/plain": [
       "{9, 10, 21, 101}"
      ]
     },
     "execution_count": 2,
     "metadata": {},
     "output_type": "execute_result"
    }
   ],
   "source": [
    "# gives the same result as the set method which does the same thing\n",
    "a.symmetric_difference(b)"
   ]
  },
  {
   "cell_type": "markdown",
   "metadata": {},
   "source": [
    "2. Given a list of numbers, write a function to return a set of all prime numbers from the list."
   ]
  },
  {
   "cell_type": "code",
   "execution_count": 3,
   "metadata": {},
   "outputs": [
    {
     "name": "stdout",
     "output_type": "stream",
     "text": [
      "The unique prime numbers in [2, 2, 3, 5, 6, 9, 31, 32, 33, 99, 100, 101, 103, 103] are:\n",
      "{2, 3, 101, 5, 103, 31}\n"
     ]
    }
   ],
   "source": [
    "import math\n",
    "\n",
    "def is_prime(number: int) -> bool:\n",
    "    \"\"\"\n",
    "    Returns the prime factors that make up the given number.\n",
    "    \"\"\"\n",
    "    # the first factor can't be bigger than this\n",
    "    # improves efficiency from O(n) to O(sqrt(n))\n",
    "    upper_bound = int(math.sqrt(number)) + 1\n",
    "    i = 2\n",
    "    while i < upper_bound:\n",
    "        if number % i == 0:\n",
    "            return False\n",
    "        else:\n",
    "            i += 1\n",
    "    # if the while loop was finished the no factor was found, hence it is prime\n",
    "    return True\n",
    "    \n",
    "\n",
    "def get_primes(numbers: list[int]) -> set[int]:\n",
    "    \"\"\"\n",
    "    Return the set of all prime numbers from the given list.\n",
    "    \"\"\"\n",
    "    return {number for number in numbers if is_prime(number)}\n",
    "\n",
    "any_primers = [2, 2, 3, 5, 6, 9, 31, 32, 33, 99, 100, 101, 103, 103]\n",
    "print(f\"The unique prime numbers in {any_primers} are:\\n{get_primes(any_primers)}\")"
   ]
  },
  {
   "cell_type": "markdown",
   "metadata": {},
   "source": [
    "3. Given a list of words, write a function to return a set of all anagrams in the list."
   ]
  },
  {
   "cell_type": "code",
   "execution_count": 4,
   "metadata": {},
   "outputs": [
    {
     "name": "stdout",
     "output_type": "stream",
     "text": [
      "All the anagrams of ['bat', 'tab'] are:\n",
      "{'atb', 'abt', 'tab', 'bta', 'bat', 'tba'}\n"
     ]
    }
   ],
   "source": [
    "def anagramize_word(word: str) -> set[str]:\n",
    "    \"\"\"\n",
    "    Returns all the anagrams of the given word.\n",
    "    \"\"\"\n",
    "    from itertools import permutations\n",
    "    \n",
    "    return {\"\".join(p) for p in permutations(word)}\n",
    "\n",
    "def anagramize_list(words: list[str]) -> set[str]:\n",
    "    \"\"\"\n",
    "    Returns the set of all anagrams of the words in the given list.\n",
    "    \"\"\"\n",
    "    return {\"\".join(anagram) for word in words for anagram in anagramize_word(word)}\n",
    "\n",
    "\n",
    "example_list = [\"bat\", \"tab\"]\n",
    "print(f\"All the anagrams of {example_list} are:\\n{anagramize_list(example_list)}\")"
   ]
  },
  {
   "cell_type": "markdown",
   "metadata": {},
   "source": [
    "4. Given a list of sets, write a function to return the Cartesian product of all sets in the list."
   ]
  },
  {
   "cell_type": "code",
   "execution_count": 5,
   "metadata": {},
   "outputs": [
    {
     "name": "stdout",
     "output_type": "stream",
     "text": [
      "The cartesian product of [{'b', 'a'}, {1, 2}] is:\n",
      "{('b', 1), ('b', 2), ('a', 1), ('a', 2)}\n"
     ]
    }
   ],
   "source": [
    "def cartesian_product(sets: list[set[Any]]) -> set[Any]:\n",
    "    \"\"\"\n",
    "    Returns the cartesian product of the sets in the given list.\n",
    "    \"\"\"\n",
    "    # will build the product adding recursively all the elements of each set in their respective coordinate\n",
    "    product = [[]]\n",
    "    for s in sets:\n",
    "        product = [element + [coordinate] for element in product for coordinate in s]\n",
    "    return {tuple(x) for x in product}\n",
    "\n",
    "example_sets = [{'a', 'b'}, {1, 2}]\n",
    "print(f\"The cartesian product of {example_sets} is:\\n{cartesian_product(example_sets)}\")"
   ]
  }
 ],
 "metadata": {
  "kernelspec": {
   "display_name": "Python 3 (ipykernel)",
   "language": "python",
   "name": "python3"
  },
  "language_info": {
   "codemirror_mode": {
    "name": "ipython",
    "version": 3
   },
   "file_extension": ".py",
   "mimetype": "text/x-python",
   "name": "python",
   "nbconvert_exporter": "python",
   "pygments_lexer": "ipython3",
   "version": "3.9.16"
  },
  "vscode": {
   "interpreter": {
    "hash": "f7a5be651532581cb44625d52e18aa1d390cab54bc6b51099d8c30bea9b68219"
   }
  }
 },
 "nbformat": 4,
 "nbformat_minor": 4
}
