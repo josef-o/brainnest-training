{
 "cells": [
  {
   "cell_type": "markdown",
   "metadata": {},
   "source": [
    "1. Write a function that takes a list of integers as an argument, and returns the sum of the integers. Use a try-except block to catch any ValueError exceptions that may be raised when attempting to convert a string to an integer."
   ]
  },
  {
   "cell_type": "code",
   "execution_count": 1,
   "metadata": {},
   "outputs": [],
   "source": [
    "def sum_of_integers_functional(integers: list[int]) -> int:\n",
    "    \"\"\"\n",
    "    Returns the sum of the integers.\n",
    "    \"\"\"\n",
    "    try:\n",
    "        return sum(map(int, integers))\n",
    "    except ValueError:\n",
    "        print(\"Some entries in the list aren't integers.\")\n",
    "        return None\n",
    "    \n",
    "    \n",
    "def sum_of_integers(integers: list[int]) -> int:\n",
    "    \"\"\"\n",
    "    Returns the sum of the integers.\n",
    "    \"\"\"\n",
    "    total = 0\n",
    "    for i in integers:\n",
    "        try:\n",
    "            total += int(i)\n",
    "        except ValueError:\n",
    "            print(\"Some entries in the list aren't integers.\")\n",
    "            return None\n",
    "    return total"
   ]
  },
  {
   "cell_type": "code",
   "execution_count": 2,
   "metadata": {},
   "outputs": [
    {
     "name": "stdout",
     "output_type": "stream",
     "text": [
      "Some entries in the list aren't integers.\n"
     ]
    }
   ],
   "source": [
    "sum_of_integers([1, 2, 3, 'catorce'])"
   ]
  },
  {
   "cell_type": "code",
   "execution_count": 3,
   "metadata": {},
   "outputs": [
    {
     "data": {
      "text/plain": [
       "20"
      ]
     },
     "execution_count": 3,
     "metadata": {},
     "output_type": "execute_result"
    }
   ],
   "source": [
    "sum_of_integers([1, 2, 3, 14])"
   ]
  },
  {
   "cell_type": "markdown",
   "metadata": {},
   "source": [
    "2. Write a function that takes a filename as an argument, and attempts to open the file. Use a try-except block to catch any FileNotFoundError exceptions that may be raised when attempting to open the file. If the file is successfully opened, the function should return the contents of the file."
   ]
  },
  {
   "cell_type": "code",
   "execution_count": 4,
   "metadata": {},
   "outputs": [],
   "source": [
    "def file_contents(filename: str) -> str:\n",
    "    \"\"\"\n",
    "    Tries to open the file given and return its contents.\n",
    "    \"\"\"\n",
    "    try:\n",
    "        with open(filename, \"r\") as f:\n",
    "            content = f.read()\n",
    "        return content\n",
    "        \n",
    "    except FileNotFoundError:\n",
    "        print(\"The file\", filename, \"was not found :/\")\n",
    "        return None"
   ]
  },
  {
   "cell_type": "code",
   "execution_count": 5,
   "metadata": {},
   "outputs": [
    {
     "name": "stdout",
     "output_type": "stream",
     "text": [
      "This is not a drill.\n",
      "\n",
      "But it is a test.\n"
     ]
    }
   ],
   "source": [
    "print(file_contents(\"hola.txt\"))"
   ]
  },
  {
   "cell_type": "code",
   "execution_count": 6,
   "metadata": {},
   "outputs": [
    {
     "name": "stdout",
     "output_type": "stream",
     "text": [
      "The file the_winds_of_winter.txt was not found :/\n"
     ]
    }
   ],
   "source": [
    "file_contents(\"the_winds_of_winter.txt\")"
   ]
  },
  {
   "cell_type": "markdown",
   "metadata": {},
   "source": [
    "3. Write a function that takes a list of strings as an argument, and returns a new list containing only the strings that can be successfully converted to a float. Use a try-except block to catch any ValueError exceptions that may be raised when attempting to convert a string to a float."
   ]
  },
  {
   "cell_type": "code",
   "execution_count": 7,
   "metadata": {},
   "outputs": [],
   "source": [
    "def keep_floats(string_list: list[str]) -> list[float]:\n",
    "    \"\"\"\n",
    "    Filters a list of strings to keep only float-looking ones.\n",
    "    \"\"\"\n",
    "    float_list = []\n",
    "    \n",
    "    for s in string_list:\n",
    "        try:\n",
    "            float_list.append(float(s))\n",
    "        except ValueError:\n",
    "            continue\n",
    "        \n",
    "    return float_list"
   ]
  },
  {
   "cell_type": "code",
   "execution_count": 8,
   "metadata": {},
   "outputs": [
    {
     "data": {
      "text/plain": [
       "[11.0, 0.1, -0.0, 500.0]"
      ]
     },
     "execution_count": 8,
     "metadata": {},
     "output_type": "execute_result"
    }
   ],
   "source": [
    "keep_floats([\"11\", \".1\", \"-0\", \"512,0\", \"123a\", \"5e2\"])"
   ]
  },
  {
   "cell_type": "markdown",
   "metadata": {},
   "source": [
    "4. Write a function that takes a list of dictionaries as an argument, and returns the value of a specified key from each dictionary. Use a try-except block to catch any KeyError exceptions that may be raised when attempting to access a key that does not exist in a dictionary."
   ]
  },
  {
   "cell_type": "code",
   "execution_count": 9,
   "metadata": {},
   "outputs": [],
   "source": [
    "def dict_gets(dicts: list[dict], key=\"foo\"):\n",
    "    \"\"\"\n",
    "    Returns the values for each dictionary that has the specified key.\n",
    "    \"\"\"\n",
    "    values = []\n",
    "    for d in dicts:\n",
    "        try:\n",
    "            values.append(d[key])\n",
    "        except KeyError:\n",
    "            continue\n",
    "    return values"
   ]
  },
  {
   "cell_type": "code",
   "execution_count": 10,
   "metadata": {},
   "outputs": [
    {
     "data": {
      "text/plain": [
       "[12, 3]"
      ]
     },
     "execution_count": 10,
     "metadata": {},
     "output_type": "execute_result"
    }
   ],
   "source": [
    "dict_gets([{}, {1: 12}, {1: 3, \"1\": \"3\"}, {\"foo\": \"bar\"}], key=1)"
   ]
  },
  {
   "cell_type": "markdown",
   "metadata": {},
   "source": [
    "5. Write a function that takes a list of integers as an argument, and returns the largest integer in the list. Use a try-except block to catch any ValueError exceptions that may be raised when attempting to compare elements that are not integers."
   ]
  },
  {
   "cell_type": "code",
   "execution_count": 11,
   "metadata": {},
   "outputs": [],
   "source": [
    "def max_list(integers: list[int]) -> int:\n",
    "    \"\"\"\n",
    "    Returns the largest integer in the list, filtering out non integers.\n",
    "    \"\"\"\n",
    "    from math import inf\n",
    "    \n",
    "    maximum = -inf\n",
    "    for i in integers:\n",
    "        try:\n",
    "            if i > maximum:\n",
    "                maximum = i\n",
    "        except TypeError:\n",
    "            print(\"The list contains non-numeric elements.\")\n",
    "            return None\n",
    "        \n",
    "    # if the list wasn't empty return the maximum found    \n",
    "    if maximum > -inf:\n",
    "        return maximum\n",
    "    else:\n",
    "        return None"
   ]
  },
  {
   "cell_type": "code",
   "execution_count": 12,
   "metadata": {},
   "outputs": [
    {
     "name": "stdout",
     "output_type": "stream",
     "text": [
      "The list contains non-numeric elements.\n"
     ]
    }
   ],
   "source": [
    "max_list([1, -13, \"1\", \"inf\", \"-inf\", 50, 51])"
   ]
  },
  {
   "cell_type": "code",
   "execution_count": 13,
   "metadata": {},
   "outputs": [
    {
     "data": {
      "text/plain": [
       "51"
      ]
     },
     "execution_count": 13,
     "metadata": {},
     "output_type": "execute_result"
    }
   ],
   "source": [
    "max_list([1, -13, -200, 50, 51])"
   ]
  }
 ],
 "metadata": {
  "kernelspec": {
   "display_name": "Python 3 (ipykernel)",
   "language": "python",
   "name": "python3"
  },
  "language_info": {
   "codemirror_mode": {
    "name": "ipython",
    "version": 3
   },
   "file_extension": ".py",
   "mimetype": "text/x-python",
   "name": "python",
   "nbconvert_exporter": "python",
   "pygments_lexer": "ipython3",
   "version": "3.11.2"
  },
  "vscode": {
   "interpreter": {
    "hash": "f7a5be651532581cb44625d52e18aa1d390cab54bc6b51099d8c30bea9b68219"
   }
  }
 },
 "nbformat": 4,
 "nbformat_minor": 4
}
