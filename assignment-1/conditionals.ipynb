{
 "cells": [
  {
   "cell_type": "markdown",
   "metadata": {},
   "source": [
    "1. Write a program that prompts the user for a string and checks whether the string is a palindrome (i.e., the string reads the same forward and backward)."
   ]
  },
  {
   "cell_type": "code",
   "execution_count": 26,
   "metadata": {},
   "outputs": [
    {
     "name": "stdin",
     "output_type": "stream",
     "text": [
      "Please enter a word:  ifi\n"
     ]
    },
    {
     "name": "stdout",
     "output_type": "stream",
     "text": [
      "The word 'ifi' is a palindrome!\n"
     ]
    }
   ],
   "source": [
    "def is_palindrome(word: str) -> bool:\n",
    "    \"\"\"\n",
    "    Returns true if the word reads the same forwards and backwards.\n",
    "    \"\"\"\n",
    "    return word == word[::-1]\n",
    "\n",
    "user_word = input(\"Please enter a word: \")\n",
    "\n",
    "if is_palindrome(user_word):\n",
    "    print(\"The word '\" + user_word + \"' is a palindrome!\")\n",
    "else:\n",
    "    print(\"The word '\" + user_word + \"' is not a palindrome :/\" )"
   ]
  },
  {
   "cell_type": "markdown",
   "metadata": {},
   "source": [
    "2. Write a program that takes in a list of integers and returns the sum of all even numbers in the list."
   ]
  },
  {
   "cell_type": "code",
   "execution_count": 27,
   "metadata": {},
   "outputs": [],
   "source": [
    "integers = [1, 2, 3, 4]"
   ]
  },
  {
   "cell_type": "code",
   "execution_count": 29,
   "metadata": {},
   "outputs": [
    {
     "data": {
      "text/plain": [
       "6"
      ]
     },
     "execution_count": 29,
     "metadata": {},
     "output_type": "execute_result"
    }
   ],
   "source": [
    "sum(filter(lambda x: x % 2 == 0, integers))"
   ]
  },
  {
   "cell_type": "markdown",
   "metadata": {},
   "source": [
    "3. Write a program that prompts the user for their age and checks whether they are old enough to vote (i.e., 18 years old or older)."
   ]
  },
  {
   "cell_type": "code",
   "execution_count": 36,
   "metadata": {},
   "outputs": [
    {
     "name": "stdin",
     "output_type": "stream",
     "text": [
      "What's your age:  18\n"
     ]
    }
   ],
   "source": [
    "user_age = int(input(\"What's your age: \"))"
   ]
  },
  {
   "cell_type": "code",
   "execution_count": 37,
   "metadata": {},
   "outputs": [
    {
     "name": "stdout",
     "output_type": "stream",
     "text": [
      "You are old enough to vote!\n"
     ]
    }
   ],
   "source": [
    "if user_age >= 18:\n",
    "    print(\"You are old enough to vote!\")\n",
    "else:\n",
    "    print(\"You are not old enough to vote :/\")"
   ]
  },
  {
   "cell_type": "markdown",
   "metadata": {},
   "source": [
    "4. Write a program that takes in a list of integers and returns the largest number in the list that is also divisible by 3."
   ]
  },
  {
   "cell_type": "code",
   "execution_count": 39,
   "metadata": {},
   "outputs": [],
   "source": [
    "integers = range(26)"
   ]
  },
  {
   "cell_type": "code",
   "execution_count": 40,
   "metadata": {},
   "outputs": [
    {
     "data": {
      "text/plain": [
       "24"
      ]
     },
     "execution_count": 40,
     "metadata": {},
     "output_type": "execute_result"
    }
   ],
   "source": [
    "max(filter(lambda x: x % 3 == 0, integers))"
   ]
  },
  {
   "cell_type": "markdown",
   "metadata": {},
   "source": [
    "5. Write a program that prompts the user for a number and checks whether the number is a prime number (i.e., only divisible by 1 and itself)."
   ]
  },
  {
   "cell_type": "code",
   "execution_count": 48,
   "metadata": {},
   "outputs": [
    {
     "name": "stdin",
     "output_type": "stream",
     "text": [
      "Enter a number:  5561321\n"
     ]
    }
   ],
   "source": [
    "user_number = int(input(\"Enter a number: \"))"
   ]
  },
  {
   "cell_type": "code",
   "execution_count": 49,
   "metadata": {},
   "outputs": [
    {
     "name": "stdout",
     "output_type": "stream",
     "text": [
      "5561321 is a prime number!\n"
     ]
    }
   ],
   "source": [
    "for i in range(2, user_number):\n",
    "    if user_number % i == 0:\n",
    "        print(user_number, \"is not a prime number :/\")\n",
    "        # print(\"It is divisible by\", i)\n",
    "        break\n",
    "# for loops have an else clause that executes if there was no break out of the for loop\n",
    "else:\n",
    "    print(user_number, \"is a prime number!\")"
   ]
  }
 ],
 "metadata": {
  "kernelspec": {
   "display_name": "Python 3 (ipykernel)",
   "language": "python",
   "name": "python3"
  },
  "language_info": {
   "codemirror_mode": {
    "name": "ipython",
    "version": 3
   },
   "file_extension": ".py",
   "mimetype": "text/x-python",
   "name": "python",
   "nbconvert_exporter": "python",
   "pygments_lexer": "ipython3",
   "version": "3.11.2"
  },
  "vscode": {
   "interpreter": {
    "hash": "f7a5be651532581cb44625d52e18aa1d390cab54bc6b51099d8c30bea9b68219"
   }
  }
 },
 "nbformat": 4,
 "nbformat_minor": 4
}
