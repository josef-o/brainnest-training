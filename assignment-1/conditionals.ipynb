{
 "cells": [
  {
   "cell_type": "markdown",
   "metadata": {},
   "source": [
    "1. Write a program that prompts the user for a string and checks whether the string is a palindrome (i.e., the string reads the same forward and backward)."
   ]
  },
  {
   "cell_type": "code",
   "execution_count": 1,
   "metadata": {},
   "outputs": [
    {
     "name": "stdin",
     "output_type": "stream",
     "text": [
      "Please enter a word:  bob\n"
     ]
    },
    {
     "name": "stdout",
     "output_type": "stream",
     "text": [
      "The word 'bob' is a palindrome!\n"
     ]
    }
   ],
   "source": [
    "def is_palindrome(word: str) -> bool:\n",
    "    \"\"\"\n",
    "    Returns true if the word reads the same forwards and backwards.\n",
    "    \"\"\"\n",
    "    # slicing with a negative step goes backwards through string\n",
    "    return word == word[::-1]\n",
    "\n",
    "user_word = input(\"Please enter a word: \")\n",
    "\n",
    "if is_palindrome(user_word):\n",
    "    print(f\"The word '{user_word}' is a palindrome!\")\n",
    "else:\n",
    "    print(f\"The word '{user_word}' is not a palindrome :/\" )"
   ]
  },
  {
   "cell_type": "markdown",
   "metadata": {},
   "source": [
    "2. Write a program that takes in a list of integers and returns the sum of all even numbers in the list."
   ]
  },
  {
   "cell_type": "code",
   "execution_count": 2,
   "metadata": {},
   "outputs": [],
   "source": [
    "# computing the result directly looping over the list\n",
    "def sum_of_evens_looping(integers: list[int]) -> int:\n",
    "    \"\"\"\n",
    "    Returns the sum of even numbers in the list.\n",
    "    \"\"\"\n",
    "    total = 0\n",
    "    for i in integers:\n",
    "        if i % 2 == 0:\n",
    "            total += i \n",
    "    return total\n",
    "\n",
    "# using python filter and sum built-in functions paired with lambda functions\n",
    "def sum_of_evens_functional(integers: list[int]) -> int:\n",
    "    \"\"\"\n",
    "    Returns the sum of even numbers in the list.\n",
    "    \"\"\"\n",
    "    return sum(filter(lambda x: x % 2 == 0, integers))"
   ]
  },
  {
   "cell_type": "code",
   "execution_count": 3,
   "metadata": {},
   "outputs": [
    {
     "name": "stdout",
     "output_type": "stream",
     "text": [
      "6\n",
      "6\n"
     ]
    }
   ],
   "source": [
    "integers = [1, 2, 3, 4]\n",
    "print(sum_of_evens_looping(integers))\n",
    "print(sum_of_evens_functional(integers))"
   ]
  },
  {
   "cell_type": "markdown",
   "metadata": {},
   "source": [
    "3. Write a program that prompts the user for their age and checks whether they are old enough to vote (i.e., 18 years old or older)."
   ]
  },
  {
   "cell_type": "code",
   "execution_count": 4,
   "metadata": {},
   "outputs": [
    {
     "name": "stdin",
     "output_type": "stream",
     "text": [
      "What's your age:  11\n"
     ]
    },
    {
     "name": "stdout",
     "output_type": "stream",
     "text": [
      "You are not old enough to vote :/\n"
     ]
    }
   ],
   "source": [
    "user_age = int(input(\"What's your age: \"))\n",
    "\n",
    "if user_age >= 18:\n",
    "    print(\"You are old enough to vote!\")\n",
    "else:\n",
    "    print(\"You are not old enough to vote :/\")"
   ]
  },
  {
   "cell_type": "markdown",
   "metadata": {},
   "source": [
    "4. Write a program that takes in a list of integers and returns the largest number in the list that is also divisible by 3."
   ]
  },
  {
   "cell_type": "code",
   "execution_count": 5,
   "metadata": {},
   "outputs": [],
   "source": [
    "# manually looping and finding the required number\n",
    "def largest_multiple_three_looping(integers: list[int]) -> int:\n",
    "    \"\"\"\n",
    "    Returns the largest number in the list that is also divisible by 3.\n",
    "    \"\"\"\n",
    "    max_three = None\n",
    "    \n",
    "    for i in integers:\n",
    "        if i % 3 == 0:\n",
    "            if max_three is None:\n",
    "                max_three = i\n",
    "            elif i > max_three:\n",
    "                max_three = i\n",
    "    \n",
    "    return max_three\n",
    "\n",
    "# using python filter and max built-in functions\n",
    "def largest_multiple_three_functional(integers: list[int]) -> int:\n",
    "    \"\"\"\n",
    "    Returns the largest number in the list that is also divisible by 3.\n",
    "    \"\"\"\n",
    "    return max(filter(lambda x: x % 3 == 0, integers))"
   ]
  },
  {
   "cell_type": "code",
   "execution_count": 6,
   "metadata": {},
   "outputs": [
    {
     "name": "stdout",
     "output_type": "stream",
     "text": [
      "99\n",
      "99\n"
     ]
    }
   ],
   "source": [
    "integers = [1, 15, 99, 100, 101]\n",
    "print(largest_multiple_three_looping(integers))\n",
    "print(largest_multiple_three_functional(integers))"
   ]
  },
  {
   "cell_type": "markdown",
   "metadata": {},
   "source": [
    "5. Write a program that prompts the user for a number and checks whether the number is a prime number (i.e., only divisible by 1 and itself)."
   ]
  },
  {
   "cell_type": "code",
   "execution_count": 7,
   "metadata": {},
   "outputs": [
    {
     "name": "stdin",
     "output_type": "stream",
     "text": [
      "Enter a number:  5561321\n"
     ]
    },
    {
     "name": "stdout",
     "output_type": "stream",
     "text": [
      "5561321 is a prime number!\n"
     ]
    }
   ],
   "source": [
    "from math import sqrt\n",
    "\n",
    "user_number = int(input(\"Enter a number: \"))\n",
    "\n",
    "# as the smallest factor can't be larger than the square root of the number (but can be equal)\n",
    "# it's not needed to check beyond that number (and faster too)\n",
    "for i in range(2, int(sqrt(user_number)) + 1):\n",
    "    \n",
    "    # if a factor is found then it's not a prime (and there's no need to keep looking)\n",
    "    if user_number % i == 0:\n",
    "        print(user_number, \"is not a prime number :/\")\n",
    "        break\n",
    "        \n",
    "# for loops have an else clause that executes if there was no break\n",
    "# which in this case means no factor was found\n",
    "else:\n",
    "    print(user_number, \"is a prime number!\")"
   ]
  },
  {
   "cell_type": "code",
   "execution_count": null,
   "metadata": {},
   "outputs": [],
   "source": []
  },
  {
   "cell_type": "code",
   "execution_count": null,
   "metadata": {},
   "outputs": [],
   "source": []
  }
 ],
 "metadata": {
  "kernelspec": {
   "display_name": "Python 3 (ipykernel)",
   "language": "python",
   "name": "python3"
  },
  "language_info": {
   "codemirror_mode": {
    "name": "ipython",
    "version": 3
   },
   "file_extension": ".py",
   "mimetype": "text/x-python",
   "name": "python",
   "nbconvert_exporter": "python",
   "pygments_lexer": "ipython3",
   "version": "3.11.2"
  },
  "vscode": {
   "interpreter": {
    "hash": "f7a5be651532581cb44625d52e18aa1d390cab54bc6b51099d8c30bea9b68219"
   }
  }
 },
 "nbformat": 4,
 "nbformat_minor": 4
}
