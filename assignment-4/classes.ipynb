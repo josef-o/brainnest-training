{
 "cells": [
  {
   "cell_type": "markdown",
   "metadata": {},
   "source": [
    "1. Create a class called Rectangle that has attributes width and height. Add methods area and perimeter that calculate the area and perimeter of the rectangle, respectively."
   ]
  },
  {
   "cell_type": "code",
   "execution_count": 1,
   "metadata": {},
   "outputs": [],
   "source": [
    "class Rectangle:\n",
    "    \n",
    "    def __init__(self, width, height):\n",
    "        self.width = width\n",
    "        self.height = height\n",
    "        \n",
    "    def area(self):\n",
    "        \"\"\"\n",
    "        Returns the area of the rectangle.\n",
    "        \"\"\"\n",
    "        return self.width * self.height\n",
    "    \n",
    "    def perimeter(self):\n",
    "        \"\"\"\n",
    "        Returns the perimeter of the rectangle.\n",
    "        \"\"\"\n",
    "        return (self.width + self.height) * 2"
   ]
  },
  {
   "cell_type": "code",
   "execution_count": 2,
   "metadata": {},
   "outputs": [
    {
     "name": "stdout",
     "output_type": "stream",
     "text": [
      "A 2 by 4 rectangle has the following properties:\n",
      "Area = 8\n",
      "Perimeter = 12\n"
     ]
    }
   ],
   "source": [
    "width = 2\n",
    "height = 4\n",
    "r = Rectangle(width, height)\n",
    "print(f\"A {width} by {height} rectangle has the following properties:\")\n",
    "print(\"Area =\", r.area())\n",
    "print(\"Perimeter =\", r.perimeter())"
   ]
  },
  {
   "cell_type": "markdown",
   "metadata": {},
   "source": [
    "2. Create a class called Circle that has attribute radius. Add methods area and circumference that calculate the area and circumference of the circle, respectively."
   ]
  },
  {
   "cell_type": "code",
   "execution_count": 3,
   "metadata": {},
   "outputs": [],
   "source": [
    "from math import pi\n",
    "\n",
    "class Circle:\n",
    "    \n",
    "    def __init__(self, radius):\n",
    "        self.radius = radius\n",
    "        \n",
    "    def area(self):\n",
    "        \"\"\"\n",
    "        Returns the area of the circle.\n",
    "        \"\"\"\n",
    "        return pi * self.radius ** 2\n",
    "    \n",
    "    def perimeter(self):\n",
    "        \"\"\"\n",
    "        Returns the perimeter of the circle.\n",
    "        \"\"\"\n",
    "        return pi * self.radius * 2"
   ]
  },
  {
   "cell_type": "code",
   "execution_count": 4,
   "metadata": {},
   "outputs": [
    {
     "name": "stdout",
     "output_type": "stream",
     "text": [
      "A circle with radius 1 has the following properties:\n",
      "Area = 3.142\n",
      "Perimeter = 6.283\n"
     ]
    }
   ],
   "source": [
    "radius = 1\n",
    "c = Circle(radius)\n",
    "print(f\"A circle with radius {radius} has the following properties:\")\n",
    "print(f\"Area = {c.area():.3f}\")\n",
    "print(f\"Perimeter = {c.perimeter():.3f}\")"
   ]
  },
  {
   "cell_type": "markdown",
   "metadata": {},
   "source": [
    "3. Create a class called Car that has attributes make, model, and year. Add methods start and stop that simulate starting and stopping the car, respectively."
   ]
  },
  {
   "cell_type": "code",
   "execution_count": 5,
   "metadata": {},
   "outputs": [
    {
     "name": "stdout",
     "output_type": "stream",
     "text": [
      "The 2013 Suzuki Celerio is running.\n",
      "The 2013 Suzuki Celerio has been stopped.\n"
     ]
    }
   ],
   "source": [
    "class Car:\n",
    "\n",
    "    def __init__(self, make: str, model: str, year: int):\n",
    "        self.make = make\n",
    "        self.model = model\n",
    "        self.year = year\n",
    "\n",
    "\n",
    "    def start(self):\n",
    "        print(f\"The {self.year} {self.make} {self.model} is running.\")\n",
    "\n",
    "\n",
    "    def stop(self):\n",
    "        print(f\"The {self.year} {self.make} {self.model} has been stopped.\")\n",
    "\n",
    "\n",
    "celerio = Car(\"Suzuki\", \"Celerio\", 2013)\n",
    "celerio.start()\n",
    "celerio.stop()"
   ]
  },
  {
   "cell_type": "markdown",
   "metadata": {},
   "source": [
    "4. Create a class called Dice that has attribute sides (the number of sides on the dice). Add a method roll that generates a random number between 1 and the number of sides on the dice."
   ]
  },
  {
   "cell_type": "code",
   "execution_count": 6,
   "metadata": {},
   "outputs": [
    {
     "name": "stdout",
     "output_type": "stream",
     "text": [
      "The 20 sided die has rolled a 2\n"
     ]
    }
   ],
   "source": [
    "from random import randint\n",
    "\n",
    "class Dice:\n",
    "    \n",
    "    def __init__(self, sides: int):\n",
    "        self.sides = sides\n",
    "        \n",
    "    def roll(self):\n",
    "        \"\"\"\n",
    "        Rolls the die and returns the result.\n",
    "        \"\"\"\n",
    "        return randint(1, self.sides)\n",
    "    \n",
    "sides = 20\n",
    "d = Dice(sides)\n",
    "print(f\"The {sides} sided die has rolled a\", d.roll())"
   ]
  },
  {
   "cell_type": "markdown",
   "metadata": {},
   "source": [
    "5. Create a class called Temperature that has attribute celsius (a temperature in degrees Celsius). Add methods to_fahrenheit and to_kelvin that convert the temperature to degrees Fahrenheit and Kelvin, respectively."
   ]
  },
  {
   "cell_type": "code",
   "execution_count": 7,
   "metadata": {},
   "outputs": [
    {
     "name": "stdout",
     "output_type": "stream",
     "text": [
      "Temperature in Celsius: -40ºC\n",
      "Temperature in Fahrenheit: -40.0ºF\n",
      "Temperature in Kelvin: 233ºK\n"
     ]
    }
   ],
   "source": [
    "class Temperature:\n",
    "    \n",
    "    def __init__(self, celsius):\n",
    "        self.celsius = celsius\n",
    "        \n",
    "    def to_fahrenheit(self):\n",
    "        \"\"\"\n",
    "        Returns the value of then Celsius temperature converted to degrees Fahrenheit.\n",
    "        \"\"\"\n",
    "        return self.celsius * 1.8 + 32\n",
    "    \n",
    "    def to_kelvin(self):\n",
    "        \"\"\"\n",
    "        Returns the value of the Celsius temperature converted to degrees Kelvin.\n",
    "        \"\"\"\n",
    "        return self.celsius + 273\n",
    "    \n",
    "thermometer = Temperature(-40)\n",
    "print(f\"Temperature in Celsius: {thermometer.celsius}ºC\")\n",
    "print(f\"Temperature in Fahrenheit: {thermometer.to_fahrenheit()}ºF\")\n",
    "print(f\"Temperature in Kelvin: {thermometer.to_kelvin()}ºK\")"
   ]
  },
  {
   "cell_type": "markdown",
   "metadata": {},
   "source": [
    "6. Create a class called Book that has attributes title, author, and publication_year. Add a method get_age that calculates how many years ago the book was published."
   ]
  },
  {
   "cell_type": "code",
   "execution_count": 8,
   "metadata": {},
   "outputs": [
    {
     "name": "stdout",
     "output_type": "stream",
     "text": [
      "The book 'Catcher in the rye' written by J.D. Salinger is 72 years old.\n"
     ]
    }
   ],
   "source": [
    "class Book:\n",
    "    \n",
    "    def __init__(self, title: str, author: str, publication_year: int):\n",
    "        self.title = title\n",
    "        self.author = author\n",
    "        self.publication_year = publication_year\n",
    "        \n",
    "    def get_age(self, from_year=2023):\n",
    "        \"\"\"\n",
    "        Returns the age of the book.\n",
    "        \n",
    "        Takes a reference year to make the calculation, set to a sane default.\n",
    "        \"\"\"\n",
    "        return from_year - self.publication_year\n",
    "    \n",
    "holden = Book(\"Catcher in the rye\", \"J.D. Salinger\", 1951)\n",
    "print(f\"The book '{holden.title}' written by {holden.author} is {holden.get_age()} years old.\")"
   ]
  },
  {
   "cell_type": "markdown",
   "metadata": {},
   "source": [
    "7. Create a class called Rectangle that has attributes width and height. Add methods __str__ and __repr__ that return a string representation of the rectangle object."
   ]
  },
  {
   "cell_type": "code",
   "execution_count": 9,
   "metadata": {},
   "outputs": [
    {
     "name": "stdout",
     "output_type": "stream",
     "text": [
      "The __str__ form of the rectangle is:\n",
      "5 by 8 Rectangle\n",
      "While its __repr__ form is:\n",
      "Rectangle(5, 8)\n"
     ]
    }
   ],
   "source": [
    "class Rectangle:\n",
    "    \n",
    "    def __init__(self, width, height):\n",
    "        self.width = width\n",
    "        self.height = height\n",
    "        \n",
    "    def __str__(self):\n",
    "        \"\"\"\n",
    "        Returns the area of the rectangle.\n",
    "        \"\"\"\n",
    "        return f\"{self.width} by {self.height} Rectangle\"\n",
    "    \n",
    "    def __repr__(self):\n",
    "        \"\"\"\n",
    "        Returns the perimeter of the rectangle.\n",
    "        \"\"\"\n",
    "        return f\"Rectangle({self.width}, {self.height})\"\n",
    "    \n",
    "tall_boi = Rectangle(5, 8)\n",
    "print(\"The __str__ form of the rectangle is:\")\n",
    "print(tall_boi)\n",
    "print(\"While its __repr__ form is:\")\n",
    "print(tall_boi.__repr__())"
   ]
  }
 ],
 "metadata": {
  "kernelspec": {
   "display_name": "Python 3 (ipykernel)",
   "language": "python",
   "name": "python3"
  },
  "language_info": {
   "codemirror_mode": {
    "name": "ipython",
    "version": 3
   },
   "file_extension": ".py",
   "mimetype": "text/x-python",
   "name": "python",
   "nbconvert_exporter": "python",
   "pygments_lexer": "ipython3",
   "version": "3.9.16"
  }
 },
 "nbformat": 4,
 "nbformat_minor": 4
}
