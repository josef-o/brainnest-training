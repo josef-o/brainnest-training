{
 "cells": [
  {
   "cell_type": "markdown",
   "metadata": {},
   "source": [
    "1. Write a function to find the most common elements in a tuple."
   ]
  },
  {
   "cell_type": "code",
   "execution_count": 1,
   "metadata": {},
   "outputs": [
    {
     "name": "stdout",
     "output_type": "stream",
     "text": [
      "The most common element(s) in () are:\n",
      " ()\n",
      "The most common element(s) in (1, 1, '1', 445) are:\n",
      " (1,)\n",
      "The most common element(s) in (1, 2, 3) are:\n",
      " (1, 2, 3)\n",
      "The most common element(s) in (1, 1, 1, 1, 1, 0) are:\n",
      " (1,)\n"
     ]
    }
   ],
   "source": [
    "from typing import Any\n",
    "from collections import defaultdict\n",
    "\n",
    "def most_common(elements: tuple[Any]) -> tuple[Any]:\n",
    "    \"\"\"\n",
    "    Returns the most common elements in the given tuple.\n",
    "    \n",
    "    Limited to tuples of hashable items.\n",
    "    \"\"\"\n",
    "    # avoids having to check for key existence when adding it for the first time\n",
    "    counts = defaultdict(lambda: 0)\n",
    "    max_count = 0\n",
    "    for element in elements:\n",
    "        counts[element] += 1\n",
    "        if counts[element] > max_count:\n",
    "            max_count = counts[element]\n",
    "    # filter iterates on the keys of the counts and keeps the ones we want\n",
    "    most_common_elements = tuple(filter(lambda e: counts[e] == max_count, counts))\n",
    "    \n",
    "    return most_common_elements\n",
    "\n",
    "tuples = [tuple(), (1, 1, \"1\", 445,), (1, 2, 3), (1, 1, 1, 1, 1, 0)]\n",
    "for t in tuples:\n",
    "    print(f\"The most common element(s) in {t} are:\\n\", most_common(t))"
   ]
  },
  {
   "cell_type": "markdown",
   "metadata": {},
   "source": [
    "2. Write a function to check if a given tuple is a palindrome, meaning the elements are the same in reverse order."
   ]
  },
  {
   "cell_type": "code",
   "execution_count": 2,
   "metadata": {},
   "outputs": [
    {
     "name": "stdout",
     "output_type": "stream",
     "text": [
      "The tuple (1, 1, 0, 1, 1) is a palindrome.\n",
      "The tuple (0, 1, 2) is NOT a palindrome.\n"
     ]
    }
   ],
   "source": [
    "def is_palindrome(t: tuple[Any]) -> bool:\n",
    "    \"\"\"\n",
    "    Returns whether the given tuple is a palindrome.\n",
    "    \n",
    "    Works with any iterable.\n",
    "    \"\"\"\n",
    "    return t == t[::-1]\n",
    "\n",
    "examples = [(1, 1, 0, 1, 1), tuple(range(3))]\n",
    "for t in examples:\n",
    "    print(f\"The tuple {t} is\", \"a\" if is_palindrome(t) else \"NOT a\", \"palindrome.\")"
   ]
  },
  {
   "cell_type": "markdown",
   "metadata": {},
   "source": [
    "3. Write a function to find the frequency of elements in a tuple, and return a dictionary mapping each element to its frequency."
   ]
  },
  {
   "cell_type": "code",
   "execution_count": 3,
   "metadata": {},
   "outputs": [
    {
     "name": "stdout",
     "output_type": "stream",
     "text": [
      "The frequencies of elements in the tuple () are:\n",
      "{}\n",
      "The frequencies of elements in the tuple (1, 1, '1', 445) are:\n",
      "{1: 2, '1': 1, 445: 1}\n",
      "The frequencies of elements in the tuple (1, 2, 3) are:\n",
      "{1: 1, 2: 1, 3: 1}\n",
      "The frequencies of elements in the tuple (1, 1, 1, 1, 1, 0) are:\n",
      "{1: 5, 0: 1}\n"
     ]
    }
   ],
   "source": [
    "from typing import Any\n",
    "\n",
    "def tuple_frequency(elements: tuple[Any]) -> Any:\n",
    "    \"\"\"\n",
    "    Returns a mapping of elements in the tuple to the times they appear in it.\n",
    "    \n",
    "    Limited to tuples of hashable items.\n",
    "    \"\"\"\n",
    "    from collections import defaultdict\n",
    "    \n",
    "    # to initialize the dictionary with the base case\n",
    "    # avoids having to handle adding keys for the first time\n",
    "    counts = defaultdict(lambda: 0)\n",
    "    for element in elements:\n",
    "        counts[element] += 1\n",
    "    # recast to dict as the defaultdict-ness isn't needed anymore\n",
    "    return dict(counts)\n",
    "\n",
    "\n",
    "tuples = [tuple(), (1, 1, \"1\", 445,), (1, 2, 3), (1, 1, 1, 1, 1, 0)]\n",
    "for t in tuples:\n",
    "    print(f\"The frequencies of elements in the tuple {t} are:\\n{tuple_frequency(t)}\")"
   ]
  },
  {
   "cell_type": "markdown",
   "metadata": {},
   "source": [
    "4. Write a function that takes a tuple as an argument and returns a new tuple with only the even elements from the original tuple."
   ]
  },
  {
   "cell_type": "code",
   "execution_count": 4,
   "metadata": {},
   "outputs": [
    {
     "name": "stdout",
     "output_type": "stream",
     "text": [
      "The even elements of (1, 1, 445) are:\n",
      "()\n",
      "The even elements of (1, 2, 3) are:\n",
      "(2,)\n",
      "The even elements of (1, 1, 1, 1, 1, 0, -20, 2, 2, 4, 10) are:\n",
      "(0, -20, 2, 2, 4, 10)\n",
      "The even elements of (0, 1, 2, 3, 4, 5, 6, 7, 8, 9) are:\n",
      "(0, 2, 4, 6, 8)\n"
     ]
    }
   ],
   "source": [
    "def only_evens(t: tuple[int]) -> tuple[int]:\n",
    "    \"\"\"\n",
    "    Returns a new tuple with only the even elements from the given tuple.\n",
    "    \"\"\"\n",
    "    return tuple(filter(lambda x: x % 2 == 0, t))\n",
    "\n",
    "examples = [(1, 1, 445,), (1, 2, 3), (1, 1, 1, 1, 1, 0, -20, 2, 2, 4, 10), tuple(range(10))]\n",
    "for t in examples:\n",
    "    print(f\"The even elements of {t} are:\\n{only_evens(t)}\")"
   ]
  },
  {
   "cell_type": "markdown",
   "metadata": {},
   "source": [
    "5. Write a function to find all unique elements in a tuple and return them in a new tuple."
   ]
  },
  {
   "cell_type": "code",
   "execution_count": 5,
   "metadata": {},
   "outputs": [],
   "source": [
    "def uniques(t: tuple[Any]) -> tuple[Any]:\n",
    "    \"\"\"\n",
    "    Returns a new tuple with the unique elements of the given one.\n",
    "    \"\"\"\n",
    "    t_unique = []\n",
    "    for element in t:\n",
    "        if element not in t_unique:\n",
    "            t_unique.append(element)\n",
    "            \n",
    "    return tuple(t_unique)\n"
   ]
  },
  {
   "cell_type": "code",
   "execution_count": 6,
   "metadata": {},
   "outputs": [
    {
     "name": "stdout",
     "output_type": "stream",
     "text": [
      "The unique elements of (1, 1, 445) are:\n",
      "(1, 445)\n",
      "The unique elements of (1, 2, 3) are:\n",
      "(1, 2, 3)\n",
      "The unique elements of (1, 1, 1, 1, 1, 0, -20, 2, 2, 4, 10) are:\n",
      "(1, 0, -20, 2, 4, 10)\n",
      "The unique elements of ('a', 'A', 'a', 'abba', 'Abba') are:\n",
      "('a', 'A', 'abba', 'Abba')\n"
     ]
    }
   ],
   "source": [
    "examples = [(1, 1, 445,), (1, 2, 3), (1, 1, 1, 1, 1, 0, -20, 2, 2, 4, 10), (\"a\", \"A\", \"a\", \"abba\", \"Abba\")]\n",
    "for t in examples:\n",
    "    print(f\"The unique elements of {t} are:\\n{uniques(t)}\")"
   ]
  }
 ],
 "metadata": {
  "kernelspec": {
   "display_name": "Python 3 (ipykernel)",
   "language": "python",
   "name": "python3"
  },
  "language_info": {
   "codemirror_mode": {
    "name": "ipython",
    "version": 3
   },
   "file_extension": ".py",
   "mimetype": "text/x-python",
   "name": "python",
   "nbconvert_exporter": "python",
   "pygments_lexer": "ipython3",
   "version": "3.9.16"
  },
  "vscode": {
   "interpreter": {
    "hash": "f7a5be651532581cb44625d52e18aa1d390cab54bc6b51099d8c30bea9b68219"
   }
  }
 },
 "nbformat": 4,
 "nbformat_minor": 4
}
