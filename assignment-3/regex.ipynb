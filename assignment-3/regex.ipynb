{
 "cells": [
  {
   "cell_type": "code",
   "execution_count": 1,
   "metadata": {},
   "outputs": [],
   "source": [
    "import re"
   ]
  },
  {
   "cell_type": "markdown",
   "metadata": {},
   "source": [
    "1.  Write a regular expression that matches a date in the format dd/mm/yyyy. For example, the string \"01/01/2021\" should match."
   ]
  },
  {
   "cell_type": "code",
   "execution_count": 2,
   "metadata": {},
   "outputs": [
    {
     "name": "stdout",
     "output_type": "stream",
     "text": [
      "All valid dates match: True\n",
      "No invalid dates match: True\n"
     ]
    }
   ],
   "source": [
    "date = re.compile(r\"\\d{2}/\\d{2}/\\d{4}\")\n",
    "\n",
    "valid_dates = [\"01/01/2021\", \"30/12/1998\", \"00/00/0000\", \"99/99/9999\"]\n",
    "invalid_dates = [\"1/1/21\", \"01/01/20023\", \"01/01/21\", \"1/1/2021\", \"01/1/2021\", \"1/01/2021\",\n",
    "                 \"un/do/tres\", \"001/02/2021\", \"01/001/2021\", \"01//01/2021\",\n",
    "                 \"a01/01/2021\", \" 01/01/2021\", \"01//2021\", \"01/ 1/2021\"]\n",
    "\n",
    "print(\"All valid dates match:\", all(map(date.fullmatch, valid_dates)))\n",
    "print(\"No invalid dates match:\", not any(map(date.fullmatch, invalid_dates)))"
   ]
  },
  {
   "cell_type": "markdown",
   "metadata": {},
   "source": [
    "2. Write a regular expression that matches a phone number in the format xxx-xxx-xxxx, where x is a digit. For example, the string \"123-456-7890\" should match."
   ]
  },
  {
   "cell_type": "code",
   "execution_count": 3,
   "metadata": {},
   "outputs": [
    {
     "name": "stdout",
     "output_type": "stream",
     "text": [
      "All valid phones match: True\n",
      "No invalid phones match: True\n"
     ]
    }
   ],
   "source": [
    "phone = re.compile(r\"\\d{3}-\\d{3}-\\d{4}\")\n",
    "\n",
    "valid_phones = [\"123-456-7890\", \"010-122-9901\", \"000-000-0000\"]\n",
    "invalid_phones = [\"1234567890\", \"12-456-7890\", \"123-456-789\", \"123-4-56-789\", \n",
    "                  \"-456-7890\", \"123--7890\", \"abc-def-ghij\", \"l23-4S6-T89O\"]\n",
    "\n",
    "print(\"All valid phones match:\", all(map(phone.fullmatch, valid_phones)))\n",
    "print(\"No invalid phones match:\", not any(map(phone.fullmatch, invalid_phones)))"
   ]
  },
  {
   "cell_type": "markdown",
   "metadata": {},
   "source": [
    "3. Write a regular expression that matches a valid email address. For example, the string \"example@example.com\" should match."
   ]
  },
  {
   "cell_type": "code",
   "execution_count": 4,
   "metadata": {},
   "outputs": [
    {
     "name": "stdout",
     "output_type": "stream",
     "text": [
      "All valid emails match: True\n",
      "No invalid emails match: True\n"
     ]
    }
   ],
   "source": [
    "email = re.compile(r\"([a-z]+\\.?[a-z]+)+@[a-z]+\\.[a-z]{3}\")\n",
    "\n",
    "valid_emails = [\"example@example.com\", \"ex.ample@example.com\", \"ex.amp.le@example.com\"]\n",
    "invalid_emails = [\"exampleexample.com\", \"ex.@example.com\", \".ample@example.com\", \n",
    "                  \"example@example\", \"example.com\", \"example@.com\", \"@example.com\", \n",
    "                  \"exam..ple@example.com\", \"example@@example.com\", \"ex@ample@example.com\"]\n",
    "\n",
    "print(\"All valid emails match:\", all(map(email.fullmatch, valid_emails)))\n",
    "print(\"No invalid emails match:\", not any(map(email.fullmatch, invalid_emails)))"
   ]
  },
  {
   "cell_type": "markdown",
   "metadata": {},
   "source": [
    "4. Write a regular expression that matches a string that starts with a word, followed by one or more whitespace characters, followed by another word. For example, the string \"hello world\" should match."
   ]
  },
  {
   "cell_type": "code",
   "execution_count": 5,
   "metadata": {},
   "outputs": [
    {
     "name": "stdout",
     "output_type": "stream",
     "text": [
      "All valid words match: True\n",
      "No invalid words match: True\n"
     ]
    }
   ],
   "source": [
    "# not using \\w because it allows underscores '_'\n",
    "words = re.compile(r\"[a-zA-Z]+\\s+[a-zA-Z]+\")\n",
    "\n",
    "valid_words = [\"hello world\", \"Hello  \\t world\", \"hello   world\", \"hello \\n world\",\n",
    "               \"hello\\tworld\", \"hello\\t world\", \"hello \\tworld\", \"hello \\n\\t world\",\n",
    "               \"hello world\", \"hello world\"]\n",
    "invalid_words = [\"\", \" \", \"helloworld\", \" hello world\", \"hello world \", \"hello wor ld\",\n",
    "                 \"helloworld \", \" helloworld\", \"hello world!\", \"hello world's\",\n",
    "                 \"hello_world\", \"hello wo_rld\", \"hel_lo world\", \"1 2\", \"1 \", \" 1\"]\n",
    "\n",
    "print(\"All valid words match:\", all(map(words.fullmatch, valid_words)))\n",
    "print(\"No invalid words match:\", not any(map(words.fullmatch, invalid_words)))"
   ]
  },
  {
   "cell_type": "markdown",
   "metadata": {},
   "source": [
    "5. Write a regular expression that matches a string that contains a number with exactly two decimal places. For example, the string \"1.23\" should match, but the string \"1.234\" should not match."
   ]
  },
  {
   "cell_type": "code",
   "execution_count": 6,
   "metadata": {},
   "outputs": [
    {
     "name": "stdout",
     "output_type": "stream",
     "text": [
      "All valid numbers match: True\n",
      "No invalid numbers match: True\n"
     ]
    }
   ],
   "source": [
    "two_decimal = re.compile(r\"[0-9]+\\.[0-9]{2}\")\n",
    "\n",
    "valid_numbers = [\"1.23\", \"11.23\", \"0.21\", \"5000.55\"]\n",
    "invalid_numbers = [\"123\", \".23\", \"1.234\", \"1.0\", \"0\", \"1,23\", \"a.23\", \"1.2n\"]\n",
    "\n",
    "print(\"All valid numbers match:\", all(map(two_decimal.fullmatch, valid_numbers)))\n",
    "print(\"No invalid numbers match:\", not any(map(two_decimal.fullmatch, invalid_numbers)))"
   ]
  }
 ],
 "metadata": {
  "kernelspec": {
   "display_name": "Python 3 (ipykernel)",
   "language": "python",
   "name": "python3"
  },
  "language_info": {
   "codemirror_mode": {
    "name": "ipython",
    "version": 3
   },
   "file_extension": ".py",
   "mimetype": "text/x-python",
   "name": "python",
   "nbconvert_exporter": "python",
   "pygments_lexer": "ipython3",
   "version": "3.9.16"
  },
  "vscode": {
   "interpreter": {
    "hash": "f7a5be651532581cb44625d52e18aa1d390cab54bc6b51099d8c30bea9b68219"
   }
  }
 },
 "nbformat": 4,
 "nbformat_minor": 4
}
