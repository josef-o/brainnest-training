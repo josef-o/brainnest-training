{
 "cells": [
  {
   "cell_type": "markdown",
   "metadata": {},
   "source": [
    "1. Create a for loop that iterates through a list of strings and prints each string in uppercase."
   ]
  },
  {
   "cell_type": "code",
   "execution_count": 1,
   "metadata": {},
   "outputs": [
    {
     "name": "stdout",
     "output_type": "stream",
     "text": [
      "ARE YOU\n",
      "SUCH\n",
      "A\n",
      "DREAMER\n",
      "TO PUT THE WORLD TO\n",
      "RIGHTS?\n"
     ]
    }
   ],
   "source": [
    "strings = [\"Are you\", \"such\", \"a\", \"dreamer\", \"to put the world to\", \"rights?\"]\n",
    "for s in strings:\n",
    "    print(s.upper())"
   ]
  },
  {
   "cell_type": "markdown",
   "metadata": {},
   "source": [
    "2. Create a for loop that iterates through a list of numbers and prints the square of each number."
   ]
  },
  {
   "cell_type": "code",
   "execution_count": 2,
   "metadata": {},
   "outputs": [
    {
     "name": "stdout",
     "output_type": "stream",
     "text": [
      "0^2 = 0\n",
      "1^2 = 1\n",
      "2^2 = 4\n",
      "3^2 = 9\n",
      "4^2 = 16\n",
      "5^2 = 25\n",
      "6^2 = 36\n",
      "7^2 = 49\n",
      "8^2 = 64\n",
      "9^2 = 81\n",
      "10^2 = 100\n"
     ]
    }
   ],
   "source": [
    "numbers = [0, 1, 2, 3, 4, 5, 6, 7, 8, 9, 10]\n",
    "for n in numbers:\n",
    "    print(f\"{n}^2 = {n**2}\")"
   ]
  },
  {
   "cell_type": "markdown",
   "metadata": {},
   "source": [
    "3. Create a for loop that iterates through a list of dictionaries and prints the value of a specified key for each dictionary."
   ]
  },
  {
   "cell_type": "code",
   "execution_count": 3,
   "metadata": {},
   "outputs": [
    {
     "name": "stdout",
     "output_type": "stream",
     "text": [
      "1\n",
      "one\n",
      "1.0\n",
      "1\n"
     ]
    }
   ],
   "source": [
    "dicts = [{1: \"1\"}, {1: \"one\"}, {1: 1.0}, {1: 1}, {\"1\": \"a different one\"}, {\"2\": \"two\"}]\n",
    "key = 1\n",
    "for d in dicts:\n",
    "    try:\n",
    "        print(d[key])\n",
    "    except KeyError:\n",
    "        pass"
   ]
  },
  {
   "cell_type": "markdown",
   "metadata": {},
   "source": [
    "4. Create a for loop that iterates through a list of numbers and prints the largest number in the list."
   ]
  },
  {
   "cell_type": "code",
   "execution_count": 4,
   "metadata": {},
   "outputs": [
    {
     "name": "stdout",
     "output_type": "stream",
     "text": [
      "The maximum of [-10, 10, -9, 300] is 300\n"
     ]
    }
   ],
   "source": [
    "numbers = [-10, 10, -9, 300]\n",
    "maximum = None\n",
    "for n in numbers:\n",
    "    # a TypeError is avoided because the first condition shortcircuits the boolean expression\n",
    "    if maximum is None or n > maximum:\n",
    "        maximum = n\n",
    "print(f\"The maximum of {numbers} is {maximum}\")"
   ]
  },
  {
   "cell_type": "markdown",
   "metadata": {},
   "source": [
    "5. Create a for loop that iterates through a list of lists and prints the sum of the elements in each sub-list."
   ]
  },
  {
   "cell_type": "code",
   "execution_count": 5,
   "metadata": {},
   "outputs": [
    {
     "name": "stdout",
     "output_type": "stream",
     "text": [
      "The sum of [1, 2, 3] is 6\n",
      "The sum of [-1, 0, 1] is 0\n",
      "The sum of [3, 3, 3] is 9\n"
     ]
    }
   ],
   "source": [
    "double_list = [[1, 2, 3], [-1, 0, 1], [3, 3, 3]]\n",
    "for sub_list in double_list:\n",
    "    print(f\"The sum of {sub_list} is {sum(sub_list)}\")"
   ]
  }
 ],
 "metadata": {
  "kernelspec": {
   "display_name": "Python 3 (ipykernel)",
   "language": "python",
   "name": "python3"
  },
  "language_info": {
   "codemirror_mode": {
    "name": "ipython",
    "version": 3
   },
   "file_extension": ".py",
   "mimetype": "text/x-python",
   "name": "python",
   "nbconvert_exporter": "python",
   "pygments_lexer": "ipython3",
   "version": "3.9.16"
  }
 },
 "nbformat": 4,
 "nbformat_minor": 4
}
