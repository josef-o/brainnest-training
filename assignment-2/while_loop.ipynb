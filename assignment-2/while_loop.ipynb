{
 "cells": [
  {
   "cell_type": "markdown",
   "metadata": {},
   "source": [
    "1. Create a while loop that repeatedly takes user input and adds the input to a list until the user enters \"done\"."
   ]
  },
  {
   "cell_type": "code",
   "execution_count": 3,
   "metadata": {
    "vscode": {
     "languageId": "plaintext"
    }
   },
   "outputs": [
    {
     "name": "stdout",
     "output_type": "stream",
     "text": [
      "State your truth (enter 'done' when you are finished).\n"
     ]
    },
    {
     "name": "stdin",
     "output_type": "stream",
     "text": [
      " Are you such a dreamer to put the world to rights?\n",
      " I'll stay home forever, where 2 + 2 is always 5\n",
      " done\n"
     ]
    }
   ],
   "source": [
    "inputs = []\n",
    "print(\"State your truth (enter 'done' when you are finished).\")\n",
    "while True:\n",
    "    user_input = input()\n",
    "    if user_input.lower() == \"done\":\n",
    "        break\n",
    "    inputs.append(user_input)"
   ]
  },
  {
   "cell_type": "code",
   "execution_count": 4,
   "metadata": {},
   "outputs": [
    {
     "name": "stdout",
     "output_type": "stream",
     "text": [
      "You said:\n",
      "Are you such a dreamer to put the world to rights?\n",
      "I'll stay home forever, where 2 + 2 is always 5\n"
     ]
    }
   ],
   "source": [
    "print(\"You said:\", \"\\n\".join(inputs), sep=\"\\n\")"
   ]
  },
  {
   "cell_type": "markdown",
   "metadata": {},
   "source": [
    "2. Create a while loop that generates random numbers and adds them to a list until the sum of all numbers in the list is greater than 100."
   ]
  },
  {
   "cell_type": "code",
   "execution_count": 6,
   "metadata": {
    "vscode": {
     "languageId": "plaintext"
    }
   },
   "outputs": [],
   "source": [
    "from random import randint\n",
    "numbers = []\n",
    "while sum(numbers) < 100:\n",
    "    numbers.append(randint(-1, 10))"
   ]
  },
  {
   "cell_type": "code",
   "execution_count": 7,
   "metadata": {},
   "outputs": [
    {
     "name": "stdout",
     "output_type": "stream",
     "text": [
      "There were 27 numbers generated, with a total sum of 102\n"
     ]
    }
   ],
   "source": [
    "print(f\"There were {len(numbers)} numbers generated, with a total sum of {sum(numbers)}\")"
   ]
  },
  {
   "cell_type": "code",
   "execution_count": 8,
   "metadata": {},
   "outputs": [
    {
     "name": "stdout",
     "output_type": "stream",
     "text": [
      "[0, 6, 9, 1, 5, 5, 1, 2, 7, 8, 3, 1, 0, 1, 4, 1, 8, 0, 4, 1, 9, 6, 3, -1, 6, 3, 9]\n"
     ]
    }
   ],
   "source": [
    "print(numbers)"
   ]
  },
  {
   "cell_type": "markdown",
   "metadata": {},
   "source": [
    "3. Create a while loop that repeatedly takes user input and appends it to a list, but only if the input is a unique string."
   ]
  },
  {
   "cell_type": "code",
   "execution_count": 10,
   "metadata": {
    "vscode": {
     "languageId": "plaintext"
    }
   },
   "outputs": [
    {
     "name": "stdin",
     "output_type": "stream",
     "text": [
      " So\n",
      " um\n",
      " umm\n",
      " I...\n",
      " um\n",
      " so\n",
      " huh?\n",
      " umm\n",
      " ok\n",
      " huh\n"
     ]
    }
   ],
   "source": [
    "unique_inputs = []\n",
    "max_inputs = 10\n",
    "i = 0\n",
    "while i < max_inputs:\n",
    "    user_input = input()\n",
    "    if user_input not in unique_inputs:\n",
    "        unique_inputs.append(user_input)\n",
    "    i += 1"
   ]
  },
  {
   "cell_type": "code",
   "execution_count": 11,
   "metadata": {},
   "outputs": [
    {
     "name": "stdout",
     "output_type": "stream",
     "text": [
      "There were 8 unique inputs.\n"
     ]
    }
   ],
   "source": [
    "print(f\"There were {len(unique_inputs)} unique inputs.\")"
   ]
  },
  {
   "cell_type": "markdown",
   "metadata": {},
   "source": [
    "4. Create a while loop that repeatedly takes user input and appends it to a list, but only if the input is a number greater than 10."
   ]
  },
  {
   "cell_type": "code",
   "execution_count": 19,
   "metadata": {
    "vscode": {
     "languageId": "plaintext"
    }
   },
   "outputs": [
    {
     "name": "stdin",
     "output_type": "stream",
     "text": [
      " One\n",
      " Two\n",
      " 3\n",
      " 4\n",
      " fi5e\n",
      " V\n",
      " 20\n",
      " 90\n",
      " -22\n",
      " ONE HUNDRED\n"
     ]
    }
   ],
   "source": [
    "num_inputs = []\n",
    "max_inputs = 10\n",
    "i = 0\n",
    "while i < max_inputs:\n",
    "    user_input = input()\n",
    "    try:\n",
    "        user_num = int(user_input)\n",
    "        if user_num > 10:\n",
    "            num_inputs.append(user_num)\n",
    "    except ValueError:\n",
    "        pass\n",
    "    i += 1"
   ]
  },
  {
   "cell_type": "code",
   "execution_count": 21,
   "metadata": {},
   "outputs": [
    {
     "name": "stdout",
     "output_type": "stream",
     "text": [
      "The numbers given bigger than 10 were [20, 90]\n"
     ]
    }
   ],
   "source": [
    "print(f\"The numbers given bigger than 10 were {num_inputs}\")"
   ]
  },
  {
   "cell_type": "markdown",
   "metadata": {},
   "source": [
    "5. Create a while loop that repeatedly takes user input and keeps track of the highest number entered until the user enters \"done\"."
   ]
  },
  {
   "cell_type": "code",
   "execution_count": 23,
   "metadata": {
    "vscode": {
     "languageId": "plaintext"
    }
   },
   "outputs": [
    {
     "name": "stdout",
     "output_type": "stream",
     "text": [
      "Enter 'done' when you are finished.\n"
     ]
    },
    {
     "name": "stdin",
     "output_type": "stream",
     "text": [
      " 1\n",
      " 100\n",
      " -50\n",
      " 1 zillion\n",
      " O\n",
      " 0\n",
      " 555\n",
      " Done\n"
     ]
    }
   ],
   "source": [
    "maximum = None\n",
    "print(\"Enter 'done' when you are finished.\")\n",
    "while True:\n",
    "    user_input = input()\n",
    "    if user_input.lower() == \"done\":\n",
    "        break\n",
    "    try:\n",
    "        user_num = int(user_input)\n",
    "    except ValueError:\n",
    "        continue\n",
    "    # first condition shortcircuits to avoid TypeError when maximum is None\n",
    "    if maximum is None or user_num > maximum:\n",
    "        maximum = user_num"
   ]
  },
  {
   "cell_type": "code",
   "execution_count": 25,
   "metadata": {
    "vscode": {
     "languageId": "plaintext"
    }
   },
   "outputs": [
    {
     "name": "stdout",
     "output_type": "stream",
     "text": [
      "The biggest number was: 555\n"
     ]
    }
   ],
   "source": [
    "print(\"The biggest number was:\", maximum)"
   ]
  }
 ],
 "metadata": {
  "kernelspec": {
   "display_name": "Python 3 (ipykernel)",
   "language": "python",
   "name": "python3"
  },
  "language_info": {
   "codemirror_mode": {
    "name": "ipython",
    "version": 3
   },
   "file_extension": ".py",
   "mimetype": "text/x-python",
   "name": "python",
   "nbconvert_exporter": "python",
   "pygments_lexer": "ipython3",
   "version": "3.9.16"
  }
 },
 "nbformat": 4,
 "nbformat_minor": 4
}
